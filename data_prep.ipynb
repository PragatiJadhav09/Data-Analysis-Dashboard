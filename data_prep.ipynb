{
 "cells": [
  {
   "cell_type": "code",
   "execution_count": 27,
   "metadata": {},
   "outputs": [
    {
     "name": "stdout",
     "output_type": "stream",
     "text": [
      "Dataset 1 Info:\n",
      "<class 'pandas.core.frame.DataFrame'>\n",
      "RangeIndex: 18018 entries, 0 to 18017\n",
      "Data columns (total 12 columns):\n",
      " #   Column       Non-Null Count  Dtype  \n",
      "---  ------       --------------  -----  \n",
      " 0   Company      18018 non-null  object \n",
      " 1   File Number  18018 non-null  int64  \n",
      " 2   Opened       18018 non-null  object \n",
      " 3   Closed       18018 non-null  object \n",
      " 4   Coverage     18018 non-null  object \n",
      " 5   SubCoverage  18018 non-null  object \n",
      " 6   Reason       18018 non-null  object \n",
      " 7   SubReason    18018 non-null  object \n",
      " 8   Disposition  18018 non-null  object \n",
      " 9   Conclusion   18018 non-null  object \n",
      " 10  Recovery     18018 non-null  float64\n",
      " 11  Status       18018 non-null  object \n",
      "dtypes: float64(1), int64(1), object(10)\n",
      "memory usage: 1.6+ MB\n",
      "None\n"
     ]
    }
   ],
   "source": [
    "print(\"Dataset 1 Info:\")\n",
    "print(dataset1.info())"
   ]
  },
  {
   "cell_type": "code",
   "execution_count": 28,
   "metadata": {},
   "outputs": [
    {
     "name": "stdout",
     "output_type": "stream",
     "text": [
      "\n",
      "Dataset 2 Info:\n",
      "<class 'pandas.core.frame.DataFrame'>\n",
      "Index: 18029 entries, 0 to 18029\n",
      "Data columns (total 12 columns):\n",
      " #   Column       Non-Null Count  Dtype  \n",
      "---  ------       --------------  -----  \n",
      " 0   Company      18029 non-null  object \n",
      " 1   File Number  18029 non-null  int64  \n",
      " 2   Opened       18029 non-null  object \n",
      " 3   Closed       18029 non-null  object \n",
      " 4   Coverage     18029 non-null  object \n",
      " 5   SubCoverage  18029 non-null  object \n",
      " 6   Reason       18029 non-null  object \n",
      " 7   SubReason    18029 non-null  object \n",
      " 8   Disposition  18029 non-null  object \n",
      " 9   Conclusion   18029 non-null  object \n",
      " 10  Recovery     18029 non-null  float64\n",
      " 11  Status       18029 non-null  object \n",
      "dtypes: float64(1), int64(1), object(10)\n",
      "memory usage: 1.8+ MB\n",
      "None\n"
     ]
    }
   ],
   "source": [
    "print(\"\\nDataset 2 Info:\")\n",
    "print(dataset2.info())"
   ]
  },
  {
   "cell_type": "code",
   "execution_count": 29,
   "metadata": {},
   "outputs": [
    {
     "name": "stdout",
     "output_type": "stream",
     "text": [
      "                                        Company  File Number      Opened  \\\n",
      "0           Transamerica Life Insurance Company       803396  07/24/2018   \n",
      "1                21st Century Insurance Company       505848  12/31/2015   \n",
      "2                21st Century Insurance Company       601543  04/01/2016   \n",
      "3                      Anthem Health Plans, Inc       805400  11/15/2018   \n",
      "4  Allstate Fire and Casualty Insurance Company       803285  07/18/2018   \n",
      "\n",
      "       Closed      Coverage     SubCoverage                  Reason  \\\n",
      "0  08/06/2018  Credit A & H  No SubCov - AH  Unfair Claims Practice   \n",
      "1  01/25/2016          Auto         Unknown         Marketing/Sales   \n",
      "2  08/12/2016          Auto         Unknown            Underwriting   \n",
      "3  12/05/2018       Unknown         Unknown      Utilization Review   \n",
      "4  08/06/2018          Auto         Unknown      Premium and Rating   \n",
      "\n",
      "              SubReason               Disposition           Conclusion  \\\n",
      "0          Claim Delays   Company Position Upheld          Unjustified   \n",
      "1     Producer Handling   Company Position Upheld          Unjustified   \n",
      "2          Cancellation  Insufficient Information  No Action Necessary   \n",
      "3            Time Delay  Insufficient Information  No Action Necessary   \n",
      "4  Premium Refund Delay         Corrective Action            Justified   \n",
      "\n",
      "   Recovery  Status  \n",
      "0      0.00  Closed  \n",
      "1      0.00  Closed  \n",
      "2      0.00  Closed  \n",
      "3      0.00  Closed  \n",
      "4     95.59  Closed  \n"
     ]
    }
   ],
   "source": [
    "print(dataset1.head())"
   ]
  },
  {
   "cell_type": "code",
   "execution_count": 35,
   "metadata": {},
   "outputs": [
    {
     "name": "stdout",
     "output_type": "stream",
     "text": [
      "Company            0\n",
      "File No.           0\n",
      "Opened             0\n",
      "Closed           420\n",
      "Coverage        3176\n",
      "SubCoverage    11733\n",
      "Reason             0\n",
      "SubReason          0\n",
      "Disposition      368\n",
      "Conclusion       368\n",
      "Recovery           0\n",
      "Status             0\n",
      "dtype: int64\n"
     ]
    }
   ],
   "source": [
    "#checking for missing values\n",
    "print(dataset1.isnull().sum())"
   ]
  },
  {
   "cell_type": "code",
   "execution_count": 36,
   "metadata": {},
   "outputs": [
    {
     "name": "stdout",
     "output_type": "stream",
     "text": [
      "Company            0\n",
      "File No.           0\n",
      "Opened             0\n",
      "Closed           359\n",
      "Coverage        3283\n",
      "SubCoverage    12079\n",
      "Reason             0\n",
      "SubReason          0\n",
      "Disposition      322\n",
      "Conclusion       322\n",
      "Recovery           0\n",
      "Status             0\n",
      "dtype: int64\n"
     ]
    }
   ],
   "source": [
    "print(dataset2.isnull().sum())"
   ]
  },
  {
   "cell_type": "code",
   "execution_count": 37,
   "metadata": {},
   "outputs": [
    {
     "name": "stdout",
     "output_type": "stream",
     "text": [
      "Company            0\n",
      "File No.           0\n",
      "Opened             0\n",
      "Closed           773\n",
      "Coverage        4807\n",
      "SubCoverage    17582\n",
      "Reason             0\n",
      "SubReason          0\n",
      "Disposition      684\n",
      "Conclusion       684\n",
      "Recovery           0\n",
      "Status             0\n",
      "dtype: int64\n"
     ]
    }
   ],
   "source": [
    "print(dataset3.isnull().sum())"
   ]
  },
  {
   "cell_type": "code",
   "execution_count": 38,
   "metadata": {},
   "outputs": [],
   "source": [
    "dataset1.fillna('Unknown', inplace=True)\n",
    "dataset2.fillna('Unknown', inplace=True)\n",
    "dataset3.fillna('Unknown', inplace=True)"
   ]
  },
  {
   "cell_type": "code",
   "execution_count": 39,
   "metadata": {},
   "outputs": [],
   "source": [
    "dataset1.drop_duplicates(inplace=True)\n",
    "dataset2.drop_duplicates(inplace=True)\n",
    "dataset3.drop_duplicates(inplace=True)"
   ]
  },
  {
   "cell_type": "code",
   "execution_count": 40,
   "metadata": {},
   "outputs": [],
   "source": [
    "dataset1.rename(columns={'File No.': 'File Number', 'coverage': 'Coverage Type'}, inplace=True)\n",
    "dataset2.rename(columns={'File No.': 'File Number', 'recovery': 'Recovery Amount'}, inplace=True)\n",
    "dataset3.rename(columns={'File No.': 'File Number', 'recovery': 'Recovery Amount'}, inplace=True)"
   ]
  },
  {
   "cell_type": "code",
   "execution_count": 41,
   "metadata": {},
   "outputs": [
    {
     "name": "stdout",
     "output_type": "stream",
     "text": [
      "                                        Company  File Number      Opened  \\\n",
      "0           Transamerica Life Insurance Company       803396  07/24/2018   \n",
      "1                21st Century Insurance Company       505848  12/31/2015   \n",
      "2                21st Century Insurance Company       601543  04/01/2016   \n",
      "3                      Anthem Health Plans, Inc       805400  11/15/2018   \n",
      "4  Allstate Fire and Casualty Insurance Company       803285  07/18/2018   \n",
      "\n",
      "       Closed      Coverage     SubCoverage                  Reason  \\\n",
      "0  08/06/2018  Credit A & H  No SubCov - AH  Unfair Claims Practice   \n",
      "1  01/25/2016          Auto         Unknown         Marketing/Sales   \n",
      "2  08/12/2016          Auto         Unknown            Underwriting   \n",
      "3  12/05/2018       Unknown         Unknown      Utilization Review   \n",
      "4  08/06/2018          Auto         Unknown      Premium and Rating   \n",
      "\n",
      "              SubReason               Disposition           Conclusion  \\\n",
      "0          Claim Delays   Company Position Upheld          Unjustified   \n",
      "1     Producer Handling   Company Position Upheld          Unjustified   \n",
      "2          Cancellation  Insufficient Information  No Action Necessary   \n",
      "3            Time Delay  Insufficient Information  No Action Necessary   \n",
      "4  Premium Refund Delay         Corrective Action            Justified   \n",
      "\n",
      "   Recovery  Status  \n",
      "0      0.00  Closed  \n",
      "1      0.00  Closed  \n",
      "2      0.00  Closed  \n",
      "3      0.00  Closed  \n",
      "4     95.59  Closed  \n"
     ]
    }
   ],
   "source": [
    "print(dataset1.head())"
   ]
  },
  {
   "cell_type": "code",
   "execution_count": 44,
   "metadata": {},
   "outputs": [],
   "source": [
    "#dataset1.to_csv('D:/Pragati/Python practice/.ipynb_checkpoints/sunlife case study/cleaned_dataset1.csv', index=False)\n",
    "#dataset2.to_csv('D:/Pragati/Python practice/.ipynb_checkpoints/sunlife case study/cleaned_dataset2.csv', index=False)\n",
    "dataset3.to_csv('D:/Pragati/Python practice/.ipynb_checkpoints/sunlife case study/cleaned_dataset3.csv', index=False)"
   ]
  },
  {
   "cell_type": "code",
   "execution_count": 46,
   "metadata": {},
   "outputs": [
    {
     "name": "stdout",
     "output_type": "stream",
     "text": [
      "<class 'pandas.core.frame.DataFrame'>\n",
      "Index: 26712 entries, 0 to 26712\n",
      "Data columns (total 12 columns):\n",
      " #   Column       Non-Null Count  Dtype  \n",
      "---  ------       --------------  -----  \n",
      " 0   Company      26712 non-null  object \n",
      " 1   File Number  26712 non-null  int64  \n",
      " 2   Opened       26712 non-null  object \n",
      " 3   Closed       26712 non-null  object \n",
      " 4   Coverage     26712 non-null  object \n",
      " 5   SubCoverage  26712 non-null  object \n",
      " 6   Reason       26712 non-null  object \n",
      " 7   SubReason    26712 non-null  object \n",
      " 8   Disposition  26712 non-null  object \n",
      " 9   Conclusion   26712 non-null  object \n",
      " 10  Recovery     26712 non-null  float64\n",
      " 11  Status       26712 non-null  object \n",
      "dtypes: float64(1), int64(1), object(10)\n",
      "memory usage: 2.6+ MB\n",
      "None\n"
     ]
    }
   ],
   "source": [
    "print(dataset3.info())"
   ]
  },
  {
   "cell_type": "code",
   "execution_count": 34,
   "metadata": {},
   "outputs": [
    {
     "name": "stderr",
     "output_type": "stream",
     "text": [
      "<>:3: SyntaxWarning: invalid escape sequence '\\P'\n",
      "<>:3: SyntaxWarning: invalid escape sequence '\\P'\n",
      "C:\\Users\\Kotwal\\AppData\\Local\\Temp\\ipykernel_13540\\4064539824.py:3: SyntaxWarning: invalid escape sequence '\\P'\n",
      "  combined_dataset_path = 'D:\\Pragati\\Python practice\\combined_dataset.csv'\n"
     ]
    }
   ],
   "source": [
    "dataset1_path = 'D:/Pragati/Python practice/.ipynb_checkpoints/sunlife case study/dataset1.csv' \n",
    "dataset2_path = 'D:/Pragati/Python practice/.ipynb_checkpoints/sunlife case study/dataset2.csv'\n",
    "combined_dataset_path = 'D:\\Pragati\\Python practice\\combined_dataset.csv'\n",
    "dataset1 = pd.read_csv(dataset1_path)\n",
    "dataset2 = pd.read_csv(dataset2_path)\n",
    "dataset3 = pd.read_csv(combined_dataset_path)"
   ]
  },
  {
   "cell_type": "code",
   "execution_count": 33,
   "metadata": {},
   "outputs": [],
   "source": [
    "import pandas as pd\n",
    "import numpy as np"
   ]
  }
 ],
 "metadata": {
  "kernelspec": {
   "display_name": "Python 3",
   "language": "python",
   "name": "python3"
  },
  "language_info": {
   "codemirror_mode": {
    "name": "ipython",
    "version": 3
   },
   "file_extension": ".py",
   "mimetype": "text/x-python",
   "name": "python",
   "nbconvert_exporter": "python",
   "pygments_lexer": "ipython3",
   "version": "3.12.5"
  }
 },
 "nbformat": 4,
 "nbformat_minor": 2
}
